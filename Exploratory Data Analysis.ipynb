{
 "cells": [
  {
   "cell_type": "code",
   "execution_count": null,
   "id": "ce08ad2a-415b-481f-a8a2-ac9cf913237a",
   "metadata": {},
   "outputs": [],
   "source": [
    "# Exploratory Data Analysis (EDA) for Real Estate Pricing\n",
    "\n",
    "#This notebook performs an exploratory data analysis to understand the factors influencing house prices. We will analyze the data through visualization, feature engineering, and clustering techniques to extract actionable insights.\n"
   ]
  },
  {
   "cell_type": "code",
   "execution_count": null,
   "id": "e85ee463-d11c-4dd3-8239-24589004d590",
   "metadata": {},
   "outputs": [],
   "source": [
    "## Importing Required Libraries\n",
    "\n",
    "## We use Pandas for data manipulation, Matplotlib and Seaborn for visualization, and scikit-learn for clustering techniques.\n",
    "\n",
    "import pandas as pd\n",
    "import numpy as np\n",
    "import matplotlib.pyplot as plt\n",
    "import seaborn as sns\n",
    "from sklearn.cluster import KMeans\n",
    "\n",
    "sns.set(style=\"whitegrid\")\n"
   ]
  },
  {
   "cell_type": "code",
   "execution_count": null,
   "id": "ca9b6f0a-f5e9-421c-ab5a-eee7c852bc64",
   "metadata": {},
   "outputs": [],
   "source": [
    "## Loading the Dataset\n",
    "\n",
    "## The dataset is loaded using Pandas. We first check its shape and view the first few rows to ensure it’s loaded correctly.\n",
    "\n",
    "# Load dataset\n",
    "df = pd.read_csv('housing_data.csv')\n",
    "\n",
    "# Display basic info\n",
    "print(\"Dataset shape:\", df.shape)\n",
    "print(df.head())\n"
   ]
  },
  {
   "cell_type": "code",
   "execution_count": null,
   "id": "2f9a7ea9-fbd1-4308-a272-0436c7a7362b",
   "metadata": {},
   "outputs": [],
   "source": [
    "## Dataset Overview\n",
    "\n",
    "## We check the structure of the dataset using `info()`. This gives us information about columns, data types, and missing values.\n",
    "\n",
    "print(df.info())\n"
   ]
  },
  {
   "cell_type": "code",
   "execution_count": null,
   "id": "b7f6027b-a681-44b6-ace2-bcf3d169e85b",
   "metadata": {},
   "outputs": [],
   "source": [
    "## Checking for Missing Values\n",
    "\n",
    "## Missing data can skew analysis. We check how many missing values exist in each column.\n",
    "\n",
    "print(df.isnull().sum())\n"
   ]
  },
  {
   "cell_type": "code",
   "execution_count": null,
   "id": "32137b59-11d7-4772-b2d4-9d89ca137ba5",
   "metadata": {},
   "outputs": [],
   "source": [
    "## Handling Missing Values\n",
    "\n",
    "## We can choose to drop or fill missing values depending on the situation. Here, we fill missing values or remove them to ensure the dataset is clean.\n",
    "\n",
    "# Example of filling missing values\n",
    "df = df.ffill()  # Forward fill\n",
    "\n"
   ]
  },
  {
   "cell_type": "code",
   "execution_count": null,
   "id": "95eb1711-f008-4cdf-8fbe-a0a49d96efd9",
   "metadata": {},
   "outputs": [],
   "source": [
    "## Removing Duplicate Entries\n",
    "\n",
    "## Duplicate rows can affect the analysis. We check for and remove any duplicate entries.\n",
    "\n",
    "df = df.drop_duplicates()\n",
    "print(\"Duplicates removed, new shape:\", df.shape)\n"
   ]
  },
  {
   "cell_type": "code",
   "execution_count": null,
   "id": "f882a154-c759-410b-b8f6-2c42ff053301",
   "metadata": {},
   "outputs": [],
   "source": [
    "## Summary Statistics\n",
    "\n",
    "## We generate descriptive statistics to understand the distribution and central tendencies of numerical variables.\n",
    "\n",
    "print(df.describe())\n"
   ]
  },
  {
   "cell_type": "code",
   "execution_count": null,
   "id": "b3678702-59a8-4496-9332-8c1899c16a7c",
   "metadata": {},
   "outputs": [],
   "source": [
    "## Distribution of Sale Price\n",
    "\n",
    "## We plot a histogram and KDE to understand how house prices are distributed.\n",
    "\n",
    "plt.figure(figsize=(10,6))\n",
    "sns.histplot(df['SalePrice'], kde=True, bins=30)\n",
    "plt.title('Distribution of Sale Price')\n",
    "plt.xlabel('Sale Price')\n",
    "plt.ylabel('Frequency')\n",
    "plt.show()\n"
   ]
  },
  {
   "cell_type": "code",
   "execution_count": null,
   "id": "3b6adbc4-9752-44a4-8cc6-31f940af636b",
   "metadata": {},
   "outputs": [],
   "source": [
    "## Boxplot of Sale Prices\n",
    "\n",
    "## A boxplot helps us identify outliers and understand the spread of house prices.\n",
    "\n",
    "\n",
    "plt.figure(figsize=(10,6))\n",
    "sns.boxplot(x=df['SalePrice'])\n",
    "plt.title('Boxplot of Sale Prices')\n",
    "plt.show()\n"
   ]
  },
  {
   "cell_type": "code",
   "execution_count": null,
   "id": "14e63b10-94be-4511-8045-694223239cda",
   "metadata": {},
   "outputs": [],
   "source": [
    "## Correlation Among Features\n",
    "\n",
    "## We calculate the correlation between numerical features to see how strongly they are related to each other and the target variable, SalePrice.\n",
    "\n",
    "# Select only numeric columns\n",
    "numeric_df = df.select_dtypes(include='number')\n",
    "\n",
    "# Calculate correlation\n",
    "corr = numeric_df.corr()\n",
    "\n",
    "# Display correlations with SalePrice\n",
    "print(corr['SalePrice'].sort_values(ascending=False))\n",
    "\n"
   ]
  },
  {
   "cell_type": "code",
   "execution_count": null,
   "id": "19e233bc-1ff0-47f9-b921-59b4d984c483",
   "metadata": {},
   "outputs": [],
   "source": [
    "## Heatmap of Correlations\n",
    "\n",
    "## A heatmap provides a visual representation of how features are correlated with each other,\n",
    "## making it easier to interpret relationships.\n",
    "\n",
    "plt.figure(figsize=(16, 12))  # 🔹 Increase figure size for clarity\n",
    "sns.heatmap(\n",
    "    corr,\n",
    "    annot=True,          # Keep annotations\n",
    "    cmap='coolwarm',     # Color scheme\n",
    "    fmt=\".2f\",           # Format correlation values\n",
    "    annot_kws={\"size\": 8},  # 🔹 Smaller annotation font\n",
    "    cbar=True,           # Show color bar\n",
    "    square=True          # Optional: make each cell square-shaped\n",
    ")\n",
    "plt.title('Correlation Matrix Heatmap', fontsize=14)\n",
    "plt.xticks(rotation=45, ha='right')  # 🔹 Rotate x-axis labels for readability\n",
    "plt.yticks(rotation=0)               # 🔹 Keep y-axis labels horizontal\n",
    "plt.tight_layout()                   # 🔹 Adjust layout to avoid clipping\n",
    "plt.show()\n"
   ]
  },
  {
   "cell_type": "code",
   "execution_count": null,
   "id": "09b17ae0-7cf2-4880-9982-b18cd7d9d573",
   "metadata": {},
   "outputs": [],
   "source": [
    "## Upper Triangle Heatmap of Correlations\n",
    "\n",
    "\n",
    "\n",
    "# Create a mask for the upper triangle\n",
    "mask = np.triu(np.ones_like(corr, dtype=bool))\n",
    "\n",
    "plt.figure(figsize=(16, 12))\n",
    "sns.heatmap(\n",
    "    corr,\n",
    "    mask=mask,           # 🔹 Hides upper triangle\n",
    "    annot=True,          # Show correlation values\n",
    "    cmap='coolwarm',     # Color scheme\n",
    "    fmt=\".2f\",           # Two decimal places\n",
    "    annot_kws={\"size\": 8},  # Smaller annotation font\n",
    "    cbar=True,           # Show color bar\n",
    "    square=True,         # Keep square cells\n",
    "    linewidths=0.5       # 🔹 Add lines between cells\n",
    ")\n",
    "plt.title('Correlation Matrix Heatmap (Lower Triangle)', fontsize=14)\n",
    "plt.xticks(rotation=45, ha='right')\n",
    "plt.yticks(rotation=0)\n",
    "plt.tight_layout()\n",
    "plt.show()\n"
   ]
  },
  {
   "cell_type": "code",
   "execution_count": null,
   "id": "1843acba-778a-4cc6-abb5-93560676995d",
   "metadata": {},
   "outputs": [],
   "source": [
    "## Relationship Between Living Area and Sale Price\n",
    "\n",
    "## We use a scatter plot to visualize how the living area (GrLivArea) affects sale price.\n",
    "\n",
    "\n",
    "plt.figure(figsize=(10,6))\n",
    "sns.scatterplot(x='GrLivArea', y='SalePrice', data=df)\n",
    "plt.title('Living Area vs Sale Price')\n",
    "plt.xlabel('Living Area (sq ft)')\n",
    "plt.ylabel('Sale Price')\n",
    "plt.show()\n"
   ]
  },
  {
   "cell_type": "code",
   "execution_count": null,
   "id": "d8604721-e13e-47c2-b05d-f32e3459a139",
   "metadata": {},
   "outputs": [],
   "source": [
    "## Feature Engineering: Price per Square Foot\n",
    "\n",
    "## We create a new feature, price per square foot, to better understand how area impacts property value.\n",
    "\n",
    "\n",
    "df['Age'] = 2025 - df['YearBuilt']\n",
    "print(df[['YearBuilt', 'Age']].head())\n"
   ]
  },
  {
   "cell_type": "code",
   "execution_count": null,
   "id": "d69f0e0a-0402-4e24-b204-4eb76808fb35",
   "metadata": {},
   "outputs": [],
   "source": [
    "## Impact of Bedrooms on Sale Price\n",
    "\n",
    "## We plot the number of bedrooms against sale price using a boxplot to see how additional rooms impact property values.\n",
    "\n",
    "\n",
    "plt.figure(figsize=(10,6))\n",
    "sns.boxplot(x='BedroomAbvGr', y='SalePrice', data=df)\n",
    "plt.title('Bedrooms vs Sale Price')\n",
    "plt.xlabel('Number of Bedrooms')\n",
    "plt.ylabel('Sale Price')\n",
    "plt.show()\n"
   ]
  },
  {
   "cell_type": "code",
   "execution_count": null,
   "id": "f27e96a6-6fa4-4fc0-81e4-7b8136393300",
   "metadata": {},
   "outputs": [],
   "source": [
    "## Impact of Bathrooms on Sale Price\n",
    "\n",
    "## This boxplot shows how the number of bathrooms is related to property pricing.\n",
    "\n",
    "\n",
    "plt.figure(figsize=(10,6))\n",
    "sns.boxplot(x='FullBath', y='SalePrice', data=df)\n",
    "plt.title('Bathrooms vs Sale Price')\n",
    "plt.xlabel('Number of Bathrooms')\n",
    "plt.ylabel('Sale Price')\n",
    "plt.show()\n"
   ]
  },
  {
   "cell_type": "code",
   "execution_count": null,
   "id": "ab756684-095d-41f3-abde-d27b07867925",
   "metadata": {},
   "outputs": [],
   "source": [
    "## Market Trends Over Time\n",
    "\n",
    "## We combine the year and month of sale into a single datetime column to analyze price trends over time.\n",
    "\n",
    "\n",
    "df['month_num'] = df['MoSold'].map({\n",
    "    'Jan': 1, 'Feb': 2, 'Mar': 3, 'Apr': 4, 'May': 5, 'Jun': 6,\n",
    "    'Jul': 7, 'Aug': 8, 'Sep': 9, 'Oct': 10, 'Nov': 11, 'Dec': 12\n",
    "})\n",
    "\n",
    "df['Date'] = pd.to_datetime(dict(year=df['YrSold'], month=df['month_num'], day=1))\n"
   ]
  },
  {
   "cell_type": "code",
   "execution_count": null,
   "id": "d549aba6-7007-4f81-961d-a92784b71703",
   "metadata": {},
   "outputs": [],
   "source": [
    "## Visualizing Price Trends Over Years\n",
    "\n",
    "## We group by year and calculate the average price to observe how prices have changed over time.\n",
    "\n",
    "\n",
    "price_trend = df.groupby(df['Date'].dt.year)['SalePrice'].mean()\n",
    "plt.figure(figsize=(10,6))\n",
    "price_trend.plot(marker='o')\n",
    "plt.title('Average Sale Price Over Years')\n",
    "plt.xlabel('Year')\n",
    "plt.ylabel('Average Sale Price')\n",
    "plt.grid(True)\n",
    "plt.show()\n"
   ]
  },
  {
   "cell_type": "code",
   "execution_count": null,
   "id": "0deae4fc-9ca0-4b9e-994e-80699b82f7db",
   "metadata": {},
   "outputs": [],
   "source": [
    "## Impact of Garage on Sale Price\n",
    "\n",
    "## We explore how garage capacity and area affect sale prices, indicating how important amenities influence property values.\n",
    "\n",
    "\n",
    "plt.figure(figsize=(10,6))\n",
    "sns.boxplot(x='GarageCars', y='SalePrice', data=df)\n",
    "plt.title('Garage Capacity vs Sale Price')\n",
    "plt.xlabel('Number of Cars Garage Can Hold')\n",
    "plt.ylabel('Sale Price')\n",
    "plt.show()\n"
   ]
  },
  {
   "cell_type": "code",
   "execution_count": null,
   "id": "658457f4-4aeb-4482-9952-ef06c95d05c0",
   "metadata": {},
   "outputs": [],
   "source": [
    "## Impact of Pool Area on Sale Price\n",
    "\n",
    "## We explore the relationship between pool area and sale price to understand how recreational amenities add value to a home.\n",
    "\n",
    "\n",
    "plt.figure(figsize=(10,6))\n",
    "sns.scatterplot(x='PoolArea', y='SalePrice', data=df)\n",
    "plt.title('Pool Area vs Sale Price')\n",
    "plt.xlabel('Pool Area (sq ft)')\n",
    "plt.ylabel('Sale Price')\n",
    "plt.show()\n"
   ]
  },
  {
   "cell_type": "code",
   "execution_count": null,
   "id": "dec580d4-b0aa-4054-8963-ccd932f55ba4",
   "metadata": {},
   "outputs": [],
   "source": [
    "## Clustering Based on Amenities\n",
    "\n",
    "## We prepare the dataset for clustering by selecting relevant features like pool area and garage size.\n",
    "\n",
    "\n",
    "features = df[['PoolArea', 'GarageCars', 'GarageArea']]\n"
   ]
  },
  {
   "cell_type": "code",
   "execution_count": null,
   "id": "9a499b98-faad-4d99-94e9-8162773685a5",
   "metadata": {},
   "outputs": [],
   "source": [
    "## Applying KMeans Clustering\n",
    "\n",
    "## We use the KMeans algorithm to group properties into three clusters based on amenities.\n",
    "\n",
    "\n",
    "kmeans = KMeans(n_clusters=3, random_state=42)\n",
    "df['Cluster'] = kmeans.fit_predict(features)\n"
   ]
  },
  {
   "cell_type": "code",
   "execution_count": null,
   "id": "7541f0d1-db53-42b3-8033-e49b1ee79937",
   "metadata": {},
   "outputs": [],
   "source": [
    "## Visualizing Clusters\n",
    "\n",
    "## We use a scatter plot to observe how houses with similar amenities are grouped into clusters and how this relates to living area and price.\n",
    "\n",
    "\n",
    "plt.figure(figsize=(10,6))\n",
    "sns.scatterplot(x='GrLivArea', y='SalePrice', hue='Cluster', palette='Set1', data=df)\n",
    "plt.title('Clusters of Houses Based on Amenities')\n",
    "plt.xlabel('Living Area (sq ft)')\n",
    "plt.ylabel('Sale Price')\n",
    "plt.legend(title='Cluster')\n",
    "plt.show()\n"
   ]
  }
 ],
 "metadata": {
  "kernelspec": {
   "display_name": "Python [conda env:base] *",
   "language": "python",
   "name": "conda-base-py"
  },
  "language_info": {
   "codemirror_mode": {
    "name": "ipython",
    "version": 3
   },
   "file_extension": ".py",
   "mimetype": "text/x-python",
   "name": "python",
   "nbconvert_exporter": "python",
   "pygments_lexer": "ipython3",
   "version": "3.12.4"
  }
 },
 "nbformat": 4,
 "nbformat_minor": 5
}
